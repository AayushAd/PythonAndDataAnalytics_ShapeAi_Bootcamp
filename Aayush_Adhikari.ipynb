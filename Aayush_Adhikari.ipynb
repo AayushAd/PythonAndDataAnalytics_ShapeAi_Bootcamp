{
    "nbformat": 4,
    "nbformat_minor": 0,
    "metadata": {
      "colab": {
        "name": "Amisha Lamsal",
        "provenance": [],
        "collapsed_sections": []
      },
      "kernelspec": {
        "name": "python3",
        "display_name": "Python 3"
      },
      "language_info": {
        "name": "python"
      }
    },
    "cells": [
      {
        "cell_type": "code",
        "metadata": {
          "id": "UaxXNYDa4yEL"
        },
        "source": [
          "import numpy as np\n",
          "import pandas as pd\n"
        ],
        "execution_count": null,
        "outputs": []
      },
      {
        "cell_type": "markdown",
        "metadata": {
          "id": "b9kk-Cvd_LCy"
        },
        "source": [
          "We use pandas read_csv function to read the csv file in python and pandas DataFrame method to convert file into data frame.\n"
        ]
      },
      {
        "cell_type": "code",
        "metadata": {
          "colab": {
            "base_uri": "https://localhost:8080/",
            "height": 206
          },
          "id": "LpkFjPAb95oj",
          "outputId": "565916a0-f0b1-4bf5-d30b-aed802fe9b08"
        },
        "source": [
          "df= pd.DataFrame(pd.read_csv('/content/train.csv'))\n",
          "df.head()"
        ],
        "execution_count": null,
        "outputs": [
          {
            "output_type": "execute_result",
            "data": {
              "text/html": [
                "<div>\n",
                "<style scoped>\n",
                "    .dataframe tbody tr th:only-of-type {\n",
                "        vertical-align: middle;\n",
                "    }\n",
                "\n",
                "    .dataframe tbody tr th {\n",
                "        vertical-align: top;\n",
                "    }\n",
                "\n",
                "    .dataframe thead th {\n",
                "        text-align: right;\n",
                "    }\n",
                "</style>\n",
                "<table border=\"1\" class=\"dataframe\">\n",
                "  <thead>\n",
                "    <tr style=\"text-align: right;\">\n",
                "      <th></th>\n",
                "      <th>PassengerId</th>\n",
                "      <th>Survived</th>\n",
                "      <th>Pclass</th>\n",
                "      <th>Name</th>\n",
                "      <th>Sex</th>\n",
                "      <th>Age</th>\n",
                "      <th>SibSp</th>\n",
                "      <th>Parch</th>\n",
                "      <th>Ticket</th>\n",
                "      <th>Fare</th>\n",
                "      <th>Cabin</th>\n",
                "      <th>Embarked</th>\n",
                "    </tr>\n",
                "  </thead>\n",
                "  <tbody>\n",
                "    <tr>\n",
                "      <th>0</th>\n",
                "      <td>1</td>\n",
                "      <td>0</td>\n",
                "      <td>3</td>\n",
                "      <td>Braund, Mr. Owen Harris</td>\n",
                "      <td>male</td>\n",
                "      <td>22.0</td>\n",
                "      <td>1</td>\n",
                "      <td>0</td>\n",
                "      <td>A/5 21171</td>\n",
                "      <td>7.2500</td>\n",
                "      <td>NaN</td>\n",
                "      <td>S</td>\n",
                "    </tr>\n",
                "    <tr>\n",
                "      <th>1</th>\n",
                "      <td>2</td>\n",
                "      <td>1</td>\n",
                "      <td>1</td>\n",
                "      <td>Cumings, Mrs. John Bradley (Florence Briggs Th...</td>\n",
                "      <td>female</td>\n",
                "      <td>38.0</td>\n",
                "      <td>1</td>\n",
                "      <td>0</td>\n",
                "      <td>PC 17599</td>\n",
                "      <td>71.2833</td>\n",
                "      <td>C85</td>\n",
                "      <td>C</td>\n",
                "    </tr>\n",
                "    <tr>\n",
                "      <th>2</th>\n",
                "      <td>3</td>\n",
                "      <td>1</td>\n",
                "      <td>3</td>\n",
                "      <td>Heikkinen, Miss. Laina</td>\n",
                "      <td>female</td>\n",
                "      <td>26.0</td>\n",
                "      <td>0</td>\n",
                "      <td>0</td>\n",
                "      <td>STON/O2. 3101282</td>\n",
                "      <td>7.9250</td>\n",
                "      <td>NaN</td>\n",
                "      <td>S</td>\n",
                "    </tr>\n",
                "    <tr>\n",
                "      <th>3</th>\n",
                "      <td>4</td>\n",
                "      <td>1</td>\n",
                "      <td>1</td>\n",
                "      <td>Futrelle, Mrs. Jacques Heath (Lily May Peel)</td>\n",
                "      <td>female</td>\n",
                "      <td>35.0</td>\n",
                "      <td>1</td>\n",
                "      <td>0</td>\n",
                "      <td>113803</td>\n",
                "      <td>53.1000</td>\n",
                "      <td>C123</td>\n",
                "      <td>S</td>\n",
                "    </tr>\n",
                "    <tr>\n",
                "      <th>4</th>\n",
                "      <td>5</td>\n",
                "      <td>0</td>\n",
                "      <td>3</td>\n",
                "      <td>Allen, Mr. William Henry</td>\n",
                "      <td>male</td>\n",
                "      <td>35.0</td>\n",
                "      <td>0</td>\n",
                "      <td>0</td>\n",
                "      <td>373450</td>\n",
                "      <td>8.0500</td>\n",
                "      <td>NaN</td>\n",
                "      <td>S</td>\n",
                "    </tr>\n",
                "  </tbody>\n",
                "</table>\n",
                "</div>"
              ],
              "text/plain": [
                "   PassengerId  Survived  Pclass  ...     Fare Cabin  Embarked\n",
                "0            1         0       3  ...   7.2500   NaN         S\n",
                "1            2         1       1  ...  71.2833   C85         C\n",
                "2            3         1       3  ...   7.9250   NaN         S\n",
                "3            4         1       1  ...  53.1000  C123         S\n",
                "4            5         0       3  ...   8.0500   NaN         S\n",
                "\n",
                "[5 rows x 12 columns]"
              ]
            },
            "metadata": {
              "tags": []
            },
            "execution_count": 6
          }
        ]
      },
      {
        "cell_type": "code",
        "metadata": {
          "colab": {
            "base_uri": "https://localhost:8080/"
          },
          "id": "6BLvrrFCBCQA",
          "outputId": "4e253344-7b50-415a-9bfe-96a73cc05e84"
        },
        "source": [
          "df.shape[0]*35/100"
        ],
        "execution_count": null,
        "outputs": [
          {
            "output_type": "execute_result",
            "data": {
              "text/plain": [
                "(891, 12)"
              ]
            },
            "metadata": {
              "tags": []
            },
            "execution_count": 7
          }
        ]
      },
      {
        "cell_type": "markdown",
        "metadata": {
          "id": "cDl2W9BSCBIy"
        },
        "source": [
          "HANDLING NULL VALUES\n",
          "The dataset may contain many rows and columns for which some values are missing, we can't leave those missing values as it is. In such cases we have two options:\n",
          "1.Either drop the entire row or column\n",
          "2.Fill the missing values with some appropriate value let's say mean of all the values for that column may do the job."
        ]
      },
      {
        "cell_type": "code",
        "metadata": {
          "colab": {
            "base_uri": "https://localhost:8080/"
          },
          "id": "0fDkORiGCjtk",
          "outputId": "fb7f3e78-431d-442c-9dfc-a96f3c12a150"
        },
        "source": [
          "df.isnull().sum()"
        ],
        "execution_count": null,
        "outputs": [
          {
            "output_type": "execute_result",
            "data": {
              "text/plain": [
                "PassengerId      0\n",
                "Survived         0\n",
                "Pclass           0\n",
                "Name             0\n",
                "Sex              0\n",
                "Age            177\n",
                "SibSp            0\n",
                "Parch            0\n",
                "Ticket           0\n",
                "Fare             0\n",
                "Cabin          687\n",
                "Embarked         2\n",
                "dtype: int64"
              ]
            },
            "metadata": {
              "tags": []
            },
            "execution_count": 8
          }
        ]
      },
      {
        "cell_type": "markdown",
        "metadata": {
          "id": "-oJRorBIC7Wm"
        },
        "source": [
          "Seperating out the columns which have mroe than 35% of the values missing in the dataset\n"
        ]
      },
      {
        "cell_type": "code",
        "metadata": {
          "colab": {
            "base_uri": "https://localhost:8080/"
          },
          "id": "5vptQusODFKU",
          "outputId": "120ba1ba-b82c-4e1e-db8e-b1b7e7865022"
        },
        "source": [
          "x= df.isnull().sum()\n",
          "drop_col= x[x>(35/100* df.shape[0])]\n",
          "drop_col\n"
        ],
        "execution_count": null,
        "outputs": [
          {
            "output_type": "execute_result",
            "data": {
              "text/plain": [
                "Cabin    687\n",
                "dtype: int64"
              ]
            },
            "metadata": {
              "tags": []
            },
            "execution_count": 10
          }
        ]
      },
      {
        "cell_type": "markdown",
        "metadata": {
          "id": "pY6YzA4cDc-o"
        },
        "source": [
          "**NOTE ** There is no specific number after which you should drop the column. It's just that we decided that on our own according to what we want."
        ]
      },
      {
        "cell_type": "code",
        "metadata": {
          "colab": {
            "base_uri": "https://localhost:8080/"
          },
          "id": "qWoCj_0CEUk6",
          "outputId": "fb5a20bc-7d98-4353-eae2-ab3dc189b79b"
        },
        "source": [
          "drop_col.index"
        ],
        "execution_count": null,
        "outputs": [
          {
            "output_type": "execute_result",
            "data": {
              "text/plain": [
                "Index(['Cabin'], dtype='object')"
              ]
            },
            "metadata": {
              "tags": []
            },
            "execution_count": 11
          }
        ]
      },
      {
        "cell_type": "code",
        "metadata": {
          "colab": {
            "base_uri": "https://localhost:8080/"
          },
          "id": "9D6n7532Ft9H",
          "outputId": "09250127-d274-4948-d7ee-5e2302e6e8b2"
        },
        "source": [
          "df.drop(drop_col.index, axis=1, inplace=True)\n",
          "df.isnull().sum()"
        ],
        "execution_count": null,
        "outputs": [
          {
            "output_type": "execute_result",
            "data": {
              "text/plain": [
                "PassengerId      0\n",
                "Survived         0\n",
                "Pclass           0\n",
                "Name             0\n",
                "Sex              0\n",
                "Age            177\n",
                "SibSp            0\n",
                "Parch            0\n",
                "Ticket           0\n",
                "Fare             0\n",
                "Embarked         2\n",
                "dtype: int64"
              ]
            },
            "metadata": {
              "tags": []
            },
            "execution_count": 12
          }
        ]
      },
      {
        "cell_type": "code",
        "metadata": {
          "colab": {
            "base_uri": "https://localhost:8080/"
          },
          "id": "_HmA0iAIGD9n",
          "outputId": "2d39c71d-6846-4659-cbbd-79eb6d0ec9cf"
        },
        "source": [
          "df.fillna(df.mean(), inplace= True)\n",
          "df.isnull().sum()"
        ],
        "execution_count": null,
        "outputs": [
          {
            "output_type": "execute_result",
            "data": {
              "text/plain": [
                "PassengerId    0\n",
                "Survived       0\n",
                "Pclass         0\n",
                "Name           0\n",
                "Sex            0\n",
                "Age            0\n",
                "SibSp          0\n",
                "Parch          0\n",
                "Ticket         0\n",
                "Fare           0\n",
                "Embarked       0\n",
                "dtype: int64"
              ]
            },
            "metadata": {
              "tags": []
            },
            "execution_count": 19
          }
        ]
      },
      {
        "cell_type": "markdown",
        "metadata": {
          "id": "9o7pbg5TGZLT"
        },
        "source": [
          "Because Embarked contains string values, we see the details of that seperately from others as strings does not have mean and all."
        ]
      },
      {
        "cell_type": "code",
        "metadata": {
          "colab": {
            "base_uri": "https://localhost:8080/"
          },
          "id": "maOnOgUxGjeu",
          "outputId": "b2e0ce1d-eeff-47dd-8744-8f4618680fe2"
        },
        "source": [
          "df['Embarked'].describe()"
        ],
        "execution_count": null,
        "outputs": [
          {
            "output_type": "execute_result",
            "data": {
              "text/plain": [
                "count     891\n",
                "unique      3\n",
                "top         S\n",
                "freq      646\n",
                "Name: Embarked, dtype: object"
              ]
            },
            "metadata": {
              "tags": []
            },
            "execution_count": 21
          }
        ]
      },
      {
        "cell_type": "markdown",
        "metadata": {
          "id": "G9PkHd4tGu_Y"
        },
        "source": [
          "For Embarked attribute, we fill the NULL VALUES with the most frequent value in the columns."
        ]
      },
      {
        "cell_type": "code",
        "metadata": {
          "id": "O83G8o59HA62"
        },
        "source": [
          "df['Embarked'].fillna('S',inplace=True)"
        ],
        "execution_count": null,
        "outputs": []
      },
      {
        "cell_type": "code",
        "metadata": {
          "colab": {
            "base_uri": "https://localhost:8080/"
          },
          "id": "O-EKU-qXHj8_",
          "outputId": "2688646e-520b-4f81-b920-d7e7f16ae0b7"
        },
        "source": [
          "df.isnull().sum()"
        ],
        "execution_count": null,
        "outputs": [
          {
            "output_type": "execute_result",
            "data": {
              "text/plain": [
                "PassengerId    0\n",
                "Survived       0\n",
                "Pclass         0\n",
                "Name           0\n",
                "Sex            0\n",
                "Age            0\n",
                "SibSp          0\n",
                "Parch          0\n",
                "Ticket         0\n",
                "Fare           0\n",
                "Embarked       0\n",
                "dtype: int64"
              ]
            },
            "metadata": {
              "tags": []
            },
            "execution_count": 22
          }
        ]
      },
      {
        "cell_type": "code",
        "metadata": {
          "colab": {
            "base_uri": "https://localhost:8080/",
            "height": 269
          },
          "id": "LlqJ2OLEHsQR",
          "outputId": "644c4687-0dff-4628-9d14-93a20d336f1a"
        },
        "source": [
          "df.corr()"
        ],
        "execution_count": null,
        "outputs": [
          {
            "output_type": "execute_result",
            "data": {
              "text/html": [
                "<div>\n",
                "<style scoped>\n",
                "    .dataframe tbody tr th:only-of-type {\n",
                "        vertical-align: middle;\n",
                "    }\n",
                "\n",
                "    .dataframe tbody tr th {\n",
                "        vertical-align: top;\n",
                "    }\n",
                "\n",
                "    .dataframe thead th {\n",
                "        text-align: right;\n",
                "    }\n",
                "</style>\n",
                "<table border=\"1\" class=\"dataframe\">\n",
                "  <thead>\n",
                "    <tr style=\"text-align: right;\">\n",
                "      <th></th>\n",
                "      <th>PassengerId</th>\n",
                "      <th>Survived</th>\n",
                "      <th>Pclass</th>\n",
                "      <th>Age</th>\n",
                "      <th>SibSp</th>\n",
                "      <th>Parch</th>\n",
                "      <th>Fare</th>\n",
                "    </tr>\n",
                "  </thead>\n",
                "  <tbody>\n",
                "    <tr>\n",
                "      <th>PassengerId</th>\n",
                "      <td>1.000000</td>\n",
                "      <td>-0.005007</td>\n",
                "      <td>-0.035144</td>\n",
                "      <td>0.033207</td>\n",
                "      <td>-0.057527</td>\n",
                "      <td>-0.001652</td>\n",
                "      <td>0.012658</td>\n",
                "    </tr>\n",
                "    <tr>\n",
                "      <th>Survived</th>\n",
                "      <td>-0.005007</td>\n",
                "      <td>1.000000</td>\n",
                "      <td>-0.338481</td>\n",
                "      <td>-0.069809</td>\n",
                "      <td>-0.035322</td>\n",
                "      <td>0.081629</td>\n",
                "      <td>0.257307</td>\n",
                "    </tr>\n",
                "    <tr>\n",
                "      <th>Pclass</th>\n",
                "      <td>-0.035144</td>\n",
                "      <td>-0.338481</td>\n",
                "      <td>1.000000</td>\n",
                "      <td>-0.331339</td>\n",
                "      <td>0.083081</td>\n",
                "      <td>0.018443</td>\n",
                "      <td>-0.549500</td>\n",
                "    </tr>\n",
                "    <tr>\n",
                "      <th>Age</th>\n",
                "      <td>0.033207</td>\n",
                "      <td>-0.069809</td>\n",
                "      <td>-0.331339</td>\n",
                "      <td>1.000000</td>\n",
                "      <td>-0.232625</td>\n",
                "      <td>-0.179191</td>\n",
                "      <td>0.091566</td>\n",
                "    </tr>\n",
                "    <tr>\n",
                "      <th>SibSp</th>\n",
                "      <td>-0.057527</td>\n",
                "      <td>-0.035322</td>\n",
                "      <td>0.083081</td>\n",
                "      <td>-0.232625</td>\n",
                "      <td>1.000000</td>\n",
                "      <td>0.414838</td>\n",
                "      <td>0.159651</td>\n",
                "    </tr>\n",
                "    <tr>\n",
                "      <th>Parch</th>\n",
                "      <td>-0.001652</td>\n",
                "      <td>0.081629</td>\n",
                "      <td>0.018443</td>\n",
                "      <td>-0.179191</td>\n",
                "      <td>0.414838</td>\n",
                "      <td>1.000000</td>\n",
                "      <td>0.216225</td>\n",
                "    </tr>\n",
                "    <tr>\n",
                "      <th>Fare</th>\n",
                "      <td>0.012658</td>\n",
                "      <td>0.257307</td>\n",
                "      <td>-0.549500</td>\n",
                "      <td>0.091566</td>\n",
                "      <td>0.159651</td>\n",
                "      <td>0.216225</td>\n",
                "      <td>1.000000</td>\n",
                "    </tr>\n",
                "  </tbody>\n",
                "</table>\n",
                "</div>"
              ],
              "text/plain": [
                "             PassengerId  Survived    Pclass  ...     SibSp     Parch      Fare\n",
                "PassengerId     1.000000 -0.005007 -0.035144  ... -0.057527 -0.001652  0.012658\n",
                "Survived       -0.005007  1.000000 -0.338481  ... -0.035322  0.081629  0.257307\n",
                "Pclass         -0.035144 -0.338481  1.000000  ...  0.083081  0.018443 -0.549500\n",
                "Age             0.033207 -0.069809 -0.331339  ... -0.232625 -0.179191  0.091566\n",
                "SibSp          -0.057527 -0.035322  0.083081  ...  1.000000  0.414838  0.159651\n",
                "Parch          -0.001652  0.081629  0.018443  ...  0.414838  1.000000  0.216225\n",
                "Fare            0.012658  0.257307 -0.549500  ...  0.159651  0.216225  1.000000\n",
                "\n",
                "[7 rows x 7 columns]"
              ]
            },
            "metadata": {
              "tags": []
            },
            "execution_count": 23
          }
        ]
      },
      {
        "cell_type": "markdown",
        "metadata": {
          "id": "JpLqRLoyIKss"
        },
        "source": [
          "**sibsp**:Number of siblings/spouses aboard\n",
          "**parch**:Number od parents/children aboard\n",
          "So we can make a new column family,size by combining these two columns\n"
        ]
      },
      {
        "cell_type": "code",
        "metadata": {
          "colab": {
            "base_uri": "https://localhost:8080/",
            "height": 237
          },
          "id": "zE4Mal59IadY",
          "outputId": "8551e792-549f-48e2-a781-c61110429666"
        },
        "source": [
          "df['FamilySize']=df['SibSp']+df['Parch']\n",
          "df.drop(['SibSp','Parch'], axis=1, inplace=True)\n",
          "df.corr()"
        ],
        "execution_count": null,
        "outputs": [
          {
            "output_type": "execute_result",
            "data": {
              "text/html": [
                "<div>\n",
                "<style scoped>\n",
                "    .dataframe tbody tr th:only-of-type {\n",
                "        vertical-align: middle;\n",
                "    }\n",
                "\n",
                "    .dataframe tbody tr th {\n",
                "        vertical-align: top;\n",
                "    }\n",
                "\n",
                "    .dataframe thead th {\n",
                "        text-align: right;\n",
                "    }\n",
                "</style>\n",
                "<table border=\"1\" class=\"dataframe\">\n",
                "  <thead>\n",
                "    <tr style=\"text-align: right;\">\n",
                "      <th></th>\n",
                "      <th>PassengerId</th>\n",
                "      <th>Survived</th>\n",
                "      <th>Pclass</th>\n",
                "      <th>Age</th>\n",
                "      <th>Fare</th>\n",
                "      <th>FamilySize</th>\n",
                "    </tr>\n",
                "  </thead>\n",
                "  <tbody>\n",
                "    <tr>\n",
                "      <th>PassengerId</th>\n",
                "      <td>1.000000</td>\n",
                "      <td>-0.005007</td>\n",
                "      <td>-0.035144</td>\n",
                "      <td>0.033207</td>\n",
                "      <td>0.012658</td>\n",
                "      <td>-0.040143</td>\n",
                "    </tr>\n",
                "    <tr>\n",
                "      <th>Survived</th>\n",
                "      <td>-0.005007</td>\n",
                "      <td>1.000000</td>\n",
                "      <td>-0.338481</td>\n",
                "      <td>-0.069809</td>\n",
                "      <td>0.257307</td>\n",
                "      <td>0.016639</td>\n",
                "    </tr>\n",
                "    <tr>\n",
                "      <th>Pclass</th>\n",
                "      <td>-0.035144</td>\n",
                "      <td>-0.338481</td>\n",
                "      <td>1.000000</td>\n",
                "      <td>-0.331339</td>\n",
                "      <td>-0.549500</td>\n",
                "      <td>0.065997</td>\n",
                "    </tr>\n",
                "    <tr>\n",
                "      <th>Age</th>\n",
                "      <td>0.033207</td>\n",
                "      <td>-0.069809</td>\n",
                "      <td>-0.331339</td>\n",
                "      <td>1.000000</td>\n",
                "      <td>0.091566</td>\n",
                "      <td>-0.248512</td>\n",
                "    </tr>\n",
                "    <tr>\n",
                "      <th>Fare</th>\n",
                "      <td>0.012658</td>\n",
                "      <td>0.257307</td>\n",
                "      <td>-0.549500</td>\n",
                "      <td>0.091566</td>\n",
                "      <td>1.000000</td>\n",
                "      <td>0.217138</td>\n",
                "    </tr>\n",
                "    <tr>\n",
                "      <th>FamilySize</th>\n",
                "      <td>-0.040143</td>\n",
                "      <td>0.016639</td>\n",
                "      <td>0.065997</td>\n",
                "      <td>-0.248512</td>\n",
                "      <td>0.217138</td>\n",
                "      <td>1.000000</td>\n",
                "    </tr>\n",
                "  </tbody>\n",
                "</table>\n",
                "</div>"
              ],
              "text/plain": [
                "             PassengerId  Survived    Pclass       Age      Fare  FamilySize\n",
                "PassengerId     1.000000 -0.005007 -0.035144  0.033207  0.012658   -0.040143\n",
                "Survived       -0.005007  1.000000 -0.338481 -0.069809  0.257307    0.016639\n",
                "Pclass         -0.035144 -0.338481  1.000000 -0.331339 -0.549500    0.065997\n",
                "Age             0.033207 -0.069809 -0.331339  1.000000  0.091566   -0.248512\n",
                "Fare            0.012658  0.257307 -0.549500  0.091566  1.000000    0.217138\n",
                "FamilySize     -0.040143  0.016639  0.065997 -0.248512  0.217138    1.000000"
              ]
            },
            "metadata": {
              "tags": []
            },
            "execution_count": 24
          }
        ]
      },
      {
        "cell_type": "markdown",
        "metadata": {
          "id": "dlzljmfrI7zD"
        },
        "source": [
          "FamilySize in the ship does not have much correleance with sirvival rate\n",
          "Let's check if we weather the person was alone or not can affect the survival rate."
        ]
      },
      {
        "cell_type": "code",
        "metadata": {
          "colab": {
            "base_uri": "https://localhost:8080/",
            "height": 206
          },
          "id": "we6N7otsJHCm",
          "outputId": "d0016116-00a5-412b-a95d-dd37519f6d56"
        },
        "source": [
          "df['Alone']=[0 if df['FamilySize'][i]>0 else 1 for i in df.index]\n",
          "df.head()"
        ],
        "execution_count": null,
        "outputs": [
          {
            "output_type": "execute_result",
            "data": {
              "text/html": [
                "<div>\n",
                "<style scoped>\n",
                "    .dataframe tbody tr th:only-of-type {\n",
                "        vertical-align: middle;\n",
                "    }\n",
                "\n",
                "    .dataframe tbody tr th {\n",
                "        vertical-align: top;\n",
                "    }\n",
                "\n",
                "    .dataframe thead th {\n",
                "        text-align: right;\n",
                "    }\n",
                "</style>\n",
                "<table border=\"1\" class=\"dataframe\">\n",
                "  <thead>\n",
                "    <tr style=\"text-align: right;\">\n",
                "      <th></th>\n",
                "      <th>PassengerId</th>\n",
                "      <th>Survived</th>\n",
                "      <th>Pclass</th>\n",
                "      <th>Name</th>\n",
                "      <th>Sex</th>\n",
                "      <th>Age</th>\n",
                "      <th>Ticket</th>\n",
                "      <th>Fare</th>\n",
                "      <th>Embarked</th>\n",
                "      <th>FamilySize</th>\n",
                "      <th>Alone</th>\n",
                "    </tr>\n",
                "  </thead>\n",
                "  <tbody>\n",
                "    <tr>\n",
                "      <th>0</th>\n",
                "      <td>1</td>\n",
                "      <td>0</td>\n",
                "      <td>3</td>\n",
                "      <td>Braund, Mr. Owen Harris</td>\n",
                "      <td>male</td>\n",
                "      <td>22.0</td>\n",
                "      <td>A/5 21171</td>\n",
                "      <td>7.2500</td>\n",
                "      <td>S</td>\n",
                "      <td>1</td>\n",
                "      <td>0</td>\n",
                "    </tr>\n",
                "    <tr>\n",
                "      <th>1</th>\n",
                "      <td>2</td>\n",
                "      <td>1</td>\n",
                "      <td>1</td>\n",
                "      <td>Cumings, Mrs. John Bradley (Florence Briggs Th...</td>\n",
                "      <td>female</td>\n",
                "      <td>38.0</td>\n",
                "      <td>PC 17599</td>\n",
                "      <td>71.2833</td>\n",
                "      <td>C</td>\n",
                "      <td>1</td>\n",
                "      <td>0</td>\n",
                "    </tr>\n",
                "    <tr>\n",
                "      <th>2</th>\n",
                "      <td>3</td>\n",
                "      <td>1</td>\n",
                "      <td>3</td>\n",
                "      <td>Heikkinen, Miss. Laina</td>\n",
                "      <td>female</td>\n",
                "      <td>26.0</td>\n",
                "      <td>STON/O2. 3101282</td>\n",
                "      <td>7.9250</td>\n",
                "      <td>S</td>\n",
                "      <td>0</td>\n",
                "      <td>1</td>\n",
                "    </tr>\n",
                "    <tr>\n",
                "      <th>3</th>\n",
                "      <td>4</td>\n",
                "      <td>1</td>\n",
                "      <td>1</td>\n",
                "      <td>Futrelle, Mrs. Jacques Heath (Lily May Peel)</td>\n",
                "      <td>female</td>\n",
                "      <td>35.0</td>\n",
                "      <td>113803</td>\n",
                "      <td>53.1000</td>\n",
                "      <td>S</td>\n",
                "      <td>1</td>\n",
                "      <td>0</td>\n",
                "    </tr>\n",
                "    <tr>\n",
                "      <th>4</th>\n",
                "      <td>5</td>\n",
                "      <td>0</td>\n",
                "      <td>3</td>\n",
                "      <td>Allen, Mr. William Henry</td>\n",
                "      <td>male</td>\n",
                "      <td>35.0</td>\n",
                "      <td>373450</td>\n",
                "      <td>8.0500</td>\n",
                "      <td>S</td>\n",
                "      <td>0</td>\n",
                "      <td>1</td>\n",
                "    </tr>\n",
                "  </tbody>\n",
                "</table>\n",
                "</div>"
              ],
              "text/plain": [
                "   PassengerId  Survived  Pclass  ... Embarked FamilySize  Alone\n",
                "0            1         0       3  ...        S          1      0\n",
                "1            2         1       1  ...        C          1      0\n",
                "2            3         1       3  ...        S          0      1\n",
                "3            4         1       1  ...        S          1      0\n",
                "4            5         0       3  ...        S          0      1\n",
                "\n",
                "[5 rows x 11 columns]"
              ]
            },
            "metadata": {
              "tags": []
            },
            "execution_count": 25
          }
        ]
      },
      {
        "cell_type": "code",
        "metadata": {
          "colab": {
            "base_uri": "https://localhost:8080/"
          },
          "id": "aB7hl1CZJlun",
          "outputId": "56c5f4c7-e274-4fdd-bd35-dbfa3f3dcea9"
        },
        "source": [
          "df.groupby(['Alone'])['Survived'].mean()"
        ],
        "execution_count": null,
        "outputs": [
          {
            "output_type": "execute_result",
            "data": {
              "text/plain": [
                "Alone\n",
                "0    0.505650\n",
                "1    0.303538\n",
                "Name: Survived, dtype: float64"
              ]
            },
            "metadata": {
              "tags": []
            },
            "execution_count": 26
          }
        ]
      },
      {
        "cell_type": "markdown",
        "metadata": {
          "id": "vkKxwnOLJx1_"
        },
        "source": [
          "If the person is alone he/she has less chance of surviving\n",
          "The reason might be the personn who is travelling with his family might be belonging to rich class and might be prioritized over other."
        ]
      },
      {
        "cell_type": "code",
        "metadata": {
          "colab": {
            "base_uri": "https://localhost:8080/",
            "height": 112
          },
          "id": "3rVQb61nJ84B",
          "outputId": "e6b35c6a-ddf7-47c4-fa83-90a33a533b5c"
        },
        "source": [
          "df[['Alone','Fare']].corr()"
        ],
        "execution_count": null,
        "outputs": [
          {
            "output_type": "execute_result",
            "data": {
              "text/html": [
                "<div>\n",
                "<style scoped>\n",
                "    .dataframe tbody tr th:only-of-type {\n",
                "        vertical-align: middle;\n",
                "    }\n",
                "\n",
                "    .dataframe tbody tr th {\n",
                "        vertical-align: top;\n",
                "    }\n",
                "\n",
                "    .dataframe thead th {\n",
                "        text-align: right;\n",
                "    }\n",
                "</style>\n",
                "<table border=\"1\" class=\"dataframe\">\n",
                "  <thead>\n",
                "    <tr style=\"text-align: right;\">\n",
                "      <th></th>\n",
                "      <th>Alone</th>\n",
                "      <th>Fare</th>\n",
                "    </tr>\n",
                "  </thead>\n",
                "  <tbody>\n",
                "    <tr>\n",
                "      <th>Alone</th>\n",
                "      <td>1.000000</td>\n",
                "      <td>-0.271832</td>\n",
                "    </tr>\n",
                "    <tr>\n",
                "      <th>Fare</th>\n",
                "      <td>-0.271832</td>\n",
                "      <td>1.000000</td>\n",
                "    </tr>\n",
                "  </tbody>\n",
                "</table>\n",
                "</div>"
              ],
              "text/plain": [
                "          Alone      Fare\n",
                "Alone  1.000000 -0.271832\n",
                "Fare  -0.271832  1.000000"
              ]
            },
            "metadata": {
              "tags": []
            },
            "execution_count": 27
          }
        ]
      },
      {
        "cell_type": "markdown",
        "metadata": {
          "id": "X0R-pslbKDB5"
        },
        "source": [
          "So we can see if the person was'nt alone, the chance the ticket price is higher is high."
        ]
      },
      {
        "cell_type": "code",
        "metadata": {
          "colab": {
            "base_uri": "https://localhost:8080/"
          },
          "id": "74DXZZFwKJSF",
          "outputId": "3f29c5e8-4678-4a3f-9312-74289a7a17f1"
        },
        "source": [
          "df['Sex']= [0 if df['Sex'][i]=='male' else 1 for i in df.index]\n",
          "df.groupby(['Sex'])['Survived'].mean()"
        ],
        "execution_count": null,
        "outputs": [
          {
            "output_type": "execute_result",
            "data": {
              "text/plain": [
                "Sex\n",
                "0    0.188908\n",
                "1    0.742038\n",
                "Name: Survived, dtype: float64"
              ]
            },
            "metadata": {
              "tags": []
            },
            "execution_count": 30
          }
        ]
      },
      {
        "cell_type": "markdown",
        "metadata": {
          "id": "9o-DuS8DKvw3"
        },
        "source": [
          "It shows, female passengers had more chances of surviving than male ones.\n",
          "It shows, women were prioritized over men.\n"
        ]
      },
      {
        "cell_type": "code",
        "metadata": {
          "colab": {
            "base_uri": "https://localhost:8080/"
          },
          "id": "lSGl0z2SK6JB",
          "outputId": "0384781a-1abe-4c68-967f-24fe485accb6"
        },
        "source": [
          "df.groupby(['Embarked'])['Survived'].mean()"
        ],
        "execution_count": null,
        "outputs": [
          {
            "output_type": "execute_result",
            "data": {
              "text/plain": [
                "Embarked\n",
                "C    0.553571\n",
                "Q    0.389610\n",
                "S    0.339009\n",
                "Name: Survived, dtype: float64"
              ]
            },
            "metadata": {
              "tags": []
            },
            "execution_count": 32
          }
        ]
      },
      {
        "cell_type": "markdown",
        "metadata": {
          "id": "EYMu67qGLqf8"
        },
        "source": [
          "\n",
          "\n",
          "CONCLUSION:\n",
          "\n",
          "*   Female passengers were prioritized over men.\n",
          "*  People with high class or rich people have higher survival rate than others. The heirarchy might have been followed while saving the passengers.\n",
          "*  Passengers travelling with their families have higher survival rates.\n",
          "*  Passengers who boarded the ship at Cherbourg survived more in proportion than the others.\n",
          "\n",
          "\n",
          "\n",
          "\n",
          "\n",
          "\n",
          "\n",
          "\n"
        ]
      }
    ]
  }